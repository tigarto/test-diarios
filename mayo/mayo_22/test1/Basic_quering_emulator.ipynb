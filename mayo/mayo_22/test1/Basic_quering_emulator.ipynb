{
 "cells": [
  {
   "cell_type": "markdown",
   "metadata": {},
   "source": [
    "# son-analyze & service's metrics within son-emu\n",
    "___\n",
    "\n",
    "`son-analyze` can fetch metrics from VNFs running in `son-emu` with the help of the `son-monitor` component.\n",
    "In this notebook, we suppose that:\n",
    "* `son-analyze`, `son-emu` & `son-monitor` run on the same host\n",
    "* A service is currently running under `son-emu`\n",
    "* `son-monitor` has been started\n",
    "* A `msd` file has been push to `son-monitor` to monitor the VNF `empty_vnf1`\n",
    "\n",
    "\n",
    "## Setup\n",
    "We import various packages related to SONATA. "
   ]
  },
  {
   "cell_type": "code",
   "execution_count": 1,
   "metadata": {},
   "outputs": [],
   "source": [
    "import son_analyze\n",
    "import son_scikit"
   ]
  },
  {
   "cell_type": "markdown",
   "metadata": {},
   "source": [
    "The `helpers.py` file is located in the parent folder."
   ]
  },
  {
   "cell_type": "code",
   "execution_count": 2,
   "metadata": {},
   "outputs": [
    {
     "ename": "ImportError",
     "evalue": "No module named 'helpers'",
     "output_type": "error",
     "traceback": [
      "\u001b[0;31m---------------------------------------------------------------------------\u001b[0m",
      "\u001b[0;31mImportError\u001b[0m                               Traceback (most recent call last)",
      "\u001b[0;32m<ipython-input-2-6aafc714c578>\u001b[0m in \u001b[0;36m<module>\u001b[0;34m()\u001b[0m\n\u001b[1;32m      1\u001b[0m \u001b[0;32mimport\u001b[0m \u001b[0msys\u001b[0m\u001b[0;34m,\u001b[0m \u001b[0mos\u001b[0m\u001b[0;34m\u001b[0m\u001b[0m\n\u001b[1;32m      2\u001b[0m \u001b[0msys\u001b[0m\u001b[0;34m.\u001b[0m\u001b[0mpath\u001b[0m\u001b[0;34m.\u001b[0m\u001b[0mappend\u001b[0m\u001b[0;34m(\u001b[0m\u001b[0mos\u001b[0m\u001b[0;34m.\u001b[0m\u001b[0mpath\u001b[0m\u001b[0;34m.\u001b[0m\u001b[0mjoin\u001b[0m\u001b[0;34m(\u001b[0m\u001b[0mos\u001b[0m\u001b[0;34m.\u001b[0m\u001b[0mgetcwd\u001b[0m\u001b[0;34m(\u001b[0m\u001b[0;34m)\u001b[0m\u001b[0;34m,\u001b[0m \u001b[0;34m'..'\u001b[0m\u001b[0;34m)\u001b[0m\u001b[0;34m)\u001b[0m\u001b[0;34m\u001b[0m\u001b[0m\n\u001b[0;32m----> 3\u001b[0;31m \u001b[0;32mimport\u001b[0m \u001b[0mhelpers\u001b[0m\u001b[0;34m\u001b[0m\u001b[0m\n\u001b[0m",
      "\u001b[0;31mImportError\u001b[0m: No module named 'helpers'"
     ]
    }
   ],
   "source": [
    "import sys, os\n",
    "sys.path.append(os.path.join(os.getcwd(), '..'))\n",
    "import helpers"
   ]
  },
  {
   "cell_type": "markdown",
   "metadata": {},
   "source": [
    "## Fetching metrics from the SONATA's emulator\n",
    "Some imports are necessary to use `son-analyze` & `son-scikit`."
   ]
  },
  {
   "cell_type": "code",
   "execution_count": 3,
   "metadata": {},
   "outputs": [],
   "source": [
    "import json\n",
    "import arrow\n",
    "import requests\n",
    "from son_analyze.core.prometheus import PrometheusData\n",
    "from son_scikit.hl_prometheus import build_sonata_df_by_id"
   ]
  },
  {
   "cell_type": "markdown",
   "metadata": {},
   "source": [
    "* `query` is the base Prometheus filter. It targets the `soemu_rx_count_packets` metric for network interface `output` of the vnf `empty_vnf1`\n",
    "* `start` & `end` are two timestamp representing a time range. This range will delimit the time window for the queried metrics\n",
    " * `end` is the current time\n",
    " * `start` is `3` minutes in the past\n",
    "* `payload` is the request body, it has a `1` secode time step\n",
    "* `req` is the actual request to fetch the metrics:\n",
    " * `172.17.0.1` is the ip of the docker interface on the host"
   ]
  },
  {
   "cell_type": "code",
   "execution_count": 4,
   "metadata": {},
   "outputs": [
    {
     "name": "stdout",
     "output_type": "stream",
     "text": [
      "The current date is: 2018-05-22T21:51:28.392143+00:00\n"
     ]
    }
   ],
   "source": [
    "query = 'sonemu_rx_count_packets{vnf_name=\"empty_vnf1\",vnf_interface=\"output\"}'\n",
    "end = arrow.utcnow()\n",
    "print('The current date is: {}'.format(end))\n",
    "start = end.replace(minutes=-3)\n",
    "payload = {'query': query, 'start': start.timestamp, 'end': end.timestamp, 'step': '1s'}\n",
    "req = requests.get('http://172.17.0.1:9090/api/v1/query_range?',\n",
    "                   params=payload)\n",
    "\n",
    "_x = PrometheusData(json.dumps(req.json()))\n",
    "all_dataframes = build_sonata_df_by_id(_x)"
   ]
  },
  {
   "cell_type": "markdown",
   "metadata": {},
   "source": [
    "Each VNF has its own dataframe where metrics have a corresponding column. Here, the `empty_vnf1` VNF has a `sonemu_rx_count_packets` column for the monitored received packets on the network."
   ]
  },
  {
   "cell_type": "code",
   "execution_count": 5,
   "metadata": {},
   "outputs": [
    {
     "data": {
      "text/html": [
       "<div>\n",
       "<style scoped>\n",
       "    .dataframe tbody tr th:only-of-type {\n",
       "        vertical-align: middle;\n",
       "    }\n",
       "\n",
       "    .dataframe tbody tr th {\n",
       "        vertical-align: top;\n",
       "    }\n",
       "\n",
       "    .dataframe thead th {\n",
       "        text-align: right;\n",
       "    }\n",
       "</style>\n",
       "<table border=\"1\" class=\"dataframe\">\n",
       "  <thead>\n",
       "    <tr style=\"text-align: right;\">\n",
       "      <th></th>\n",
       "      <th>sonemu_rx_count_packets</th>\n",
       "    </tr>\n",
       "  </thead>\n",
       "  <tbody>\n",
       "    <tr>\n",
       "      <th>2018-05-22 21:48:28+00:00</th>\n",
       "      <td>67.0</td>\n",
       "    </tr>\n",
       "    <tr>\n",
       "      <th>2018-05-22 21:48:29+00:00</th>\n",
       "      <td>67.0</td>\n",
       "    </tr>\n",
       "    <tr>\n",
       "      <th>2018-05-22 21:48:30+00:00</th>\n",
       "      <td>67.0</td>\n",
       "    </tr>\n",
       "    <tr>\n",
       "      <th>2018-05-22 21:48:31+00:00</th>\n",
       "      <td>67.0</td>\n",
       "    </tr>\n",
       "    <tr>\n",
       "      <th>2018-05-22 21:48:32+00:00</th>\n",
       "      <td>67.0</td>\n",
       "    </tr>\n",
       "  </tbody>\n",
       "</table>\n",
       "</div>"
      ],
      "text/plain": [
       "                           sonemu_rx_count_packets\n",
       "2018-05-22 21:48:28+00:00                     67.0\n",
       "2018-05-22 21:48:29+00:00                     67.0\n",
       "2018-05-22 21:48:30+00:00                     67.0\n",
       "2018-05-22 21:48:31+00:00                     67.0\n",
       "2018-05-22 21:48:32+00:00                     67.0"
      ]
     },
     "metadata": {},
     "output_type": "display_data"
    }
   ],
   "source": [
    "display(all_dataframes['empty_vnf1'].head())"
   ]
  },
  {
   "cell_type": "markdown",
   "metadata": {},
   "source": [
    "## Basic plotting with metrics from son-emu\n",
    "From there we use the `df` and `ddf` variables as shortcuts, before plotting them.\n",
    "* `df` is the main dataframe we are going to work with\n",
    "* `ddf` contains the discrete difference of `df`"
   ]
  },
  {
   "cell_type": "code",
   "execution_count": 6,
   "metadata": {},
   "outputs": [
    {
     "data": {
      "image/png": "[encoded data removed]",
      "text/plain": [
       "<Figure size 1440x360 with 1 Axes>"
      ]
     },
     "metadata": {},
     "output_type": "display_data"
    },
    {
     "data": {
      "image/png": "[encoded data removed]",
      "text/plain": [
       "<Figure size 1440x360 with 1 Axes>"
      ]
     },
     "metadata": {},
     "output_type": "display_data"
    }
   ],
   "source": [
    "import matplotlib\n",
    "import matplotlib.pyplot as plt\n",
    "matplotlib.style.use('ggplot')\n",
    "%matplotlib inline\n",
    "matplotlib.rcParams['figure.figsize'] = (20.0, 5.0)\n",
    "\n",
    "df = all_dataframes['empty_vnf1']\n",
    "ddf = df.diff().dropna()\n",
    "\n",
    "df.plot();\n",
    "ddf.plot();"
   ]
  },
  {
   "cell_type": "code",
   "execution_count": null,
   "metadata": {},
   "outputs": [],
   "source": []
  }
 ],
 "metadata": {
  "kernelspec": {
   "display_name": "Python 3",
   "language": "python",
   "name": "python3"
  },
  "language_info": {
   "codemirror_mode": {
    "name": "ipython",
    "version": 3
   },
   "file_extension": ".py",
   "mimetype": "text/x-python",
   "name": "python",
   "nbconvert_exporter": "python",
   "pygments_lexer": "ipython3",
   "version": "3.4.6"
  }
 },
 "nbformat": 4,
 "nbformat_minor": 1
}
